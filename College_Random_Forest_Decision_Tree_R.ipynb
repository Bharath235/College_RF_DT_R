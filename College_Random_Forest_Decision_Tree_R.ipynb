{
 "cells": [
  {
   "cell_type": "markdown",
   "metadata": {},
   "source": [
    "## College RF DT"
   ]
  },
  {
   "cell_type": "markdown",
   "metadata": {},
   "source": [
    "### Read and understand data"
   ]
  },
  {
   "cell_type": "code",
   "execution_count": 1,
   "metadata": {},
   "outputs": [],
   "source": [
    "library(ISLR)"
   ]
  },
  {
   "cell_type": "code",
   "execution_count": 2,
   "metadata": {},
   "outputs": [
    {
     "data": {
      "text/html": [
       "<table>\n",
       "<caption>A data.frame: 6 × 18</caption>\n",
       "<thead>\n",
       "\t<tr><th></th><th scope=col>Private</th><th scope=col>Apps</th><th scope=col>Accept</th><th scope=col>Enroll</th><th scope=col>Top10perc</th><th scope=col>Top25perc</th><th scope=col>F.Undergrad</th><th scope=col>P.Undergrad</th><th scope=col>Outstate</th><th scope=col>Room.Board</th><th scope=col>Books</th><th scope=col>Personal</th><th scope=col>PhD</th><th scope=col>Terminal</th><th scope=col>S.F.Ratio</th><th scope=col>perc.alumni</th><th scope=col>Expend</th><th scope=col>Grad.Rate</th></tr>\n",
       "\t<tr><th></th><th scope=col>&lt;fct&gt;</th><th scope=col>&lt;dbl&gt;</th><th scope=col>&lt;dbl&gt;</th><th scope=col>&lt;dbl&gt;</th><th scope=col>&lt;dbl&gt;</th><th scope=col>&lt;dbl&gt;</th><th scope=col>&lt;dbl&gt;</th><th scope=col>&lt;dbl&gt;</th><th scope=col>&lt;dbl&gt;</th><th scope=col>&lt;dbl&gt;</th><th scope=col>&lt;dbl&gt;</th><th scope=col>&lt;dbl&gt;</th><th scope=col>&lt;dbl&gt;</th><th scope=col>&lt;dbl&gt;</th><th scope=col>&lt;dbl&gt;</th><th scope=col>&lt;dbl&gt;</th><th scope=col>&lt;dbl&gt;</th><th scope=col>&lt;dbl&gt;</th></tr>\n",
       "</thead>\n",
       "<tbody>\n",
       "\t<tr><th scope=row>Abilene Christian University</th><td>Yes</td><td>1660</td><td>1232</td><td>721</td><td>23</td><td>52</td><td>2885</td><td> 537</td><td> 7440</td><td>3300</td><td>450</td><td>2200</td><td>70</td><td>78</td><td>18.1</td><td>12</td><td> 7041</td><td>60</td></tr>\n",
       "\t<tr><th scope=row>Adelphi University</th><td>Yes</td><td>2186</td><td>1924</td><td>512</td><td>16</td><td>29</td><td>2683</td><td>1227</td><td>12280</td><td>6450</td><td>750</td><td>1500</td><td>29</td><td>30</td><td>12.2</td><td>16</td><td>10527</td><td>56</td></tr>\n",
       "\t<tr><th scope=row>Adrian College</th><td>Yes</td><td>1428</td><td>1097</td><td>336</td><td>22</td><td>50</td><td>1036</td><td>  99</td><td>11250</td><td>3750</td><td>400</td><td>1165</td><td>53</td><td>66</td><td>12.9</td><td>30</td><td> 8735</td><td>54</td></tr>\n",
       "\t<tr><th scope=row>Agnes Scott College</th><td>Yes</td><td> 417</td><td> 349</td><td>137</td><td>60</td><td>89</td><td> 510</td><td>  63</td><td>12960</td><td>5450</td><td>450</td><td> 875</td><td>92</td><td>97</td><td> 7.7</td><td>37</td><td>19016</td><td>59</td></tr>\n",
       "\t<tr><th scope=row>Alaska Pacific University</th><td>Yes</td><td> 193</td><td> 146</td><td> 55</td><td>16</td><td>44</td><td> 249</td><td> 869</td><td> 7560</td><td>4120</td><td>800</td><td>1500</td><td>76</td><td>72</td><td>11.9</td><td> 2</td><td>10922</td><td>15</td></tr>\n",
       "\t<tr><th scope=row>Albertson College</th><td>Yes</td><td> 587</td><td> 479</td><td>158</td><td>38</td><td>62</td><td> 678</td><td>  41</td><td>13500</td><td>3335</td><td>500</td><td> 675</td><td>67</td><td>73</td><td> 9.4</td><td>11</td><td> 9727</td><td>55</td></tr>\n",
       "</tbody>\n",
       "</table>\n"
      ],
      "text/latex": [
       "A data.frame: 6 × 18\n",
       "\\begin{tabular}{r|llllllllllllllllll}\n",
       "  & Private & Apps & Accept & Enroll & Top10perc & Top25perc & F.Undergrad & P.Undergrad & Outstate & Room.Board & Books & Personal & PhD & Terminal & S.F.Ratio & perc.alumni & Expend & Grad.Rate\\\\\n",
       "  & <fct> & <dbl> & <dbl> & <dbl> & <dbl> & <dbl> & <dbl> & <dbl> & <dbl> & <dbl> & <dbl> & <dbl> & <dbl> & <dbl> & <dbl> & <dbl> & <dbl> & <dbl>\\\\\n",
       "\\hline\n",
       "\tAbilene Christian University & Yes & 1660 & 1232 & 721 & 23 & 52 & 2885 &  537 &  7440 & 3300 & 450 & 2200 & 70 & 78 & 18.1 & 12 &  7041 & 60\\\\\n",
       "\tAdelphi University & Yes & 2186 & 1924 & 512 & 16 & 29 & 2683 & 1227 & 12280 & 6450 & 750 & 1500 & 29 & 30 & 12.2 & 16 & 10527 & 56\\\\\n",
       "\tAdrian College & Yes & 1428 & 1097 & 336 & 22 & 50 & 1036 &   99 & 11250 & 3750 & 400 & 1165 & 53 & 66 & 12.9 & 30 &  8735 & 54\\\\\n",
       "\tAgnes Scott College & Yes &  417 &  349 & 137 & 60 & 89 &  510 &   63 & 12960 & 5450 & 450 &  875 & 92 & 97 &  7.7 & 37 & 19016 & 59\\\\\n",
       "\tAlaska Pacific University & Yes &  193 &  146 &  55 & 16 & 44 &  249 &  869 &  7560 & 4120 & 800 & 1500 & 76 & 72 & 11.9 &  2 & 10922 & 15\\\\\n",
       "\tAlbertson College & Yes &  587 &  479 & 158 & 38 & 62 &  678 &   41 & 13500 & 3335 & 500 &  675 & 67 & 73 &  9.4 & 11 &  9727 & 55\\\\\n",
       "\\end{tabular}\n"
      ],
      "text/markdown": [
       "\n",
       "A data.frame: 6 × 18\n",
       "\n",
       "| <!--/--> | Private &lt;fct&gt; | Apps &lt;dbl&gt; | Accept &lt;dbl&gt; | Enroll &lt;dbl&gt; | Top10perc &lt;dbl&gt; | Top25perc &lt;dbl&gt; | F.Undergrad &lt;dbl&gt; | P.Undergrad &lt;dbl&gt; | Outstate &lt;dbl&gt; | Room.Board &lt;dbl&gt; | Books &lt;dbl&gt; | Personal &lt;dbl&gt; | PhD &lt;dbl&gt; | Terminal &lt;dbl&gt; | S.F.Ratio &lt;dbl&gt; | perc.alumni &lt;dbl&gt; | Expend &lt;dbl&gt; | Grad.Rate &lt;dbl&gt; |\n",
       "|---|---|---|---|---|---|---|---|---|---|---|---|---|---|---|---|---|---|---|\n",
       "| Abilene Christian University | Yes | 1660 | 1232 | 721 | 23 | 52 | 2885 |  537 |  7440 | 3300 | 450 | 2200 | 70 | 78 | 18.1 | 12 |  7041 | 60 |\n",
       "| Adelphi University | Yes | 2186 | 1924 | 512 | 16 | 29 | 2683 | 1227 | 12280 | 6450 | 750 | 1500 | 29 | 30 | 12.2 | 16 | 10527 | 56 |\n",
       "| Adrian College | Yes | 1428 | 1097 | 336 | 22 | 50 | 1036 |   99 | 11250 | 3750 | 400 | 1165 | 53 | 66 | 12.9 | 30 |  8735 | 54 |\n",
       "| Agnes Scott College | Yes |  417 |  349 | 137 | 60 | 89 |  510 |   63 | 12960 | 5450 | 450 |  875 | 92 | 97 |  7.7 | 37 | 19016 | 59 |\n",
       "| Alaska Pacific University | Yes |  193 |  146 |  55 | 16 | 44 |  249 |  869 |  7560 | 4120 | 800 | 1500 | 76 | 72 | 11.9 |  2 | 10922 | 15 |\n",
       "| Albertson College | Yes |  587 |  479 | 158 | 38 | 62 |  678 |   41 | 13500 | 3335 | 500 |  675 | 67 | 73 |  9.4 | 11 |  9727 | 55 |\n",
       "\n"
      ],
      "text/plain": [
       "                             Private Apps Accept Enroll Top10perc Top25perc\n",
       "Abilene Christian University Yes     1660 1232   721    23        52       \n",
       "Adelphi University           Yes     2186 1924   512    16        29       \n",
       "Adrian College               Yes     1428 1097   336    22        50       \n",
       "Agnes Scott College          Yes      417  349   137    60        89       \n",
       "Alaska Pacific University    Yes      193  146    55    16        44       \n",
       "Albertson College            Yes      587  479   158    38        62       \n",
       "                             F.Undergrad P.Undergrad Outstate Room.Board Books\n",
       "Abilene Christian University 2885         537         7440    3300       450  \n",
       "Adelphi University           2683        1227        12280    6450       750  \n",
       "Adrian College               1036          99        11250    3750       400  \n",
       "Agnes Scott College           510          63        12960    5450       450  \n",
       "Alaska Pacific University     249         869         7560    4120       800  \n",
       "Albertson College             678          41        13500    3335       500  \n",
       "                             Personal PhD Terminal S.F.Ratio perc.alumni Expend\n",
       "Abilene Christian University 2200     70  78       18.1      12           7041 \n",
       "Adelphi University           1500     29  30       12.2      16          10527 \n",
       "Adrian College               1165     53  66       12.9      30           8735 \n",
       "Agnes Scott College           875     92  97        7.7      37          19016 \n",
       "Alaska Pacific University    1500     76  72       11.9       2          10922 \n",
       "Albertson College             675     67  73        9.4      11           9727 \n",
       "                             Grad.Rate\n",
       "Abilene Christian University 60       \n",
       "Adelphi University           56       \n",
       "Adrian College               54       \n",
       "Agnes Scott College          59       \n",
       "Alaska Pacific University    15       \n",
       "Albertson College            55       "
      ]
     },
     "metadata": {},
     "output_type": "display_data"
    }
   ],
   "source": [
    "head(College)"
   ]
  },
  {
   "cell_type": "code",
   "execution_count": 3,
   "metadata": {},
   "outputs": [],
   "source": [
    "df <- College"
   ]
  },
  {
   "cell_type": "code",
   "execution_count": 4,
   "metadata": {},
   "outputs": [
    {
     "name": "stdout",
     "output_type": "stream",
     "text": [
      "'data.frame':\t777 obs. of  18 variables:\n",
      " $ Private    : Factor w/ 2 levels \"No\",\"Yes\": 2 2 2 2 2 2 2 2 2 2 ...\n",
      " $ Apps       : num  1660 2186 1428 417 193 ...\n",
      " $ Accept     : num  1232 1924 1097 349 146 ...\n",
      " $ Enroll     : num  721 512 336 137 55 158 103 489 227 172 ...\n",
      " $ Top10perc  : num  23 16 22 60 16 38 17 37 30 21 ...\n",
      " $ Top25perc  : num  52 29 50 89 44 62 45 68 63 44 ...\n",
      " $ F.Undergrad: num  2885 2683 1036 510 249 ...\n",
      " $ P.Undergrad: num  537 1227 99 63 869 ...\n",
      " $ Outstate   : num  7440 12280 11250 12960 7560 ...\n",
      " $ Room.Board : num  3300 6450 3750 5450 4120 ...\n",
      " $ Books      : num  450 750 400 450 800 500 500 450 300 660 ...\n",
      " $ Personal   : num  2200 1500 1165 875 1500 ...\n",
      " $ PhD        : num  70 29 53 92 76 67 90 89 79 40 ...\n",
      " $ Terminal   : num  78 30 66 97 72 73 93 100 84 41 ...\n",
      " $ S.F.Ratio  : num  18.1 12.2 12.9 7.7 11.9 9.4 11.5 13.7 11.3 11.5 ...\n",
      " $ perc.alumni: num  12 16 30 37 2 11 26 37 23 15 ...\n",
      " $ Expend     : num  7041 10527 8735 19016 10922 ...\n",
      " $ Grad.Rate  : num  60 56 54 59 15 55 63 73 80 52 ...\n"
     ]
    }
   ],
   "source": [
    "str(df)"
   ]
  },
  {
   "cell_type": "markdown",
   "metadata": {},
   "source": [
    "### EDA"
   ]
  },
  {
   "cell_type": "code",
   "execution_count": 5,
   "metadata": {},
   "outputs": [],
   "source": [
    "library(ggplot2)"
   ]
  },
  {
   "cell_type": "code",
   "execution_count": 6,
   "metadata": {},
   "outputs": [
    {
     "data": {
      "image/png": "[encoded data removed]",
      "text/plain": [
       "plot without title"
      ]
     },
     "metadata": {
      "image/png": {
       "height": 420,
       "width": 420
      }
     },
     "output_type": "display_data"
    }
   ],
   "source": [
    "ggplot(df, aes(Room.Board,Grad.Rate)) + geom_point(aes(color=Private), size=2, alpha=0.4)"
   ]
  },
  {
   "cell_type": "code",
   "execution_count": 7,
   "metadata": {},
   "outputs": [
    {
     "data": {
      "image/png": "[encoded data removed]",
      "text/plain": [
       "plot without title"
      ]
     },
     "metadata": {
      "image/png": {
       "height": 420,
       "width": 420
      }
     },
     "output_type": "display_data"
    }
   ],
   "source": [
    "ggplot(df, aes(F.Undergrad)) + geom_histogram(aes(fill=Private), color='black', bins=50, alpha=0.5) +theme_bw()"
   ]
  },
  {
   "cell_type": "code",
   "execution_count": 8,
   "metadata": {},
   "outputs": [
    {
     "data": {
      "image/png": "[encoded data removed]",
      "text/plain": [
       "plot without title"
      ]
     },
     "metadata": {
      "image/png": {
       "height": 420,
       "width": 420
      }
     },
     "output_type": "display_data"
    }
   ],
   "source": [
    "ggplot(df, aes(Grad.Rate)) + geom_histogram(aes(fill=Private), color='black', bins=50, alpha=0.5) + theme_bw()"
   ]
  },
  {
   "cell_type": "markdown",
   "metadata": {},
   "source": [
    "### Cleaning the data"
   ]
  },
  {
   "cell_type": "code",
   "execution_count": 9,
   "metadata": {},
   "outputs": [
    {
     "data": {
      "text/html": [
       "<table>\n",
       "<caption>A data.frame: 1 × 18</caption>\n",
       "<thead>\n",
       "\t<tr><th></th><th scope=col>Private</th><th scope=col>Apps</th><th scope=col>Accept</th><th scope=col>Enroll</th><th scope=col>Top10perc</th><th scope=col>Top25perc</th><th scope=col>F.Undergrad</th><th scope=col>P.Undergrad</th><th scope=col>Outstate</th><th scope=col>Room.Board</th><th scope=col>Books</th><th scope=col>Personal</th><th scope=col>PhD</th><th scope=col>Terminal</th><th scope=col>S.F.Ratio</th><th scope=col>perc.alumni</th><th scope=col>Expend</th><th scope=col>Grad.Rate</th></tr>\n",
       "\t<tr><th></th><th scope=col>&lt;fct&gt;</th><th scope=col>&lt;dbl&gt;</th><th scope=col>&lt;dbl&gt;</th><th scope=col>&lt;dbl&gt;</th><th scope=col>&lt;dbl&gt;</th><th scope=col>&lt;dbl&gt;</th><th scope=col>&lt;dbl&gt;</th><th scope=col>&lt;dbl&gt;</th><th scope=col>&lt;dbl&gt;</th><th scope=col>&lt;dbl&gt;</th><th scope=col>&lt;dbl&gt;</th><th scope=col>&lt;dbl&gt;</th><th scope=col>&lt;dbl&gt;</th><th scope=col>&lt;dbl&gt;</th><th scope=col>&lt;dbl&gt;</th><th scope=col>&lt;dbl&gt;</th><th scope=col>&lt;dbl&gt;</th><th scope=col>&lt;dbl&gt;</th></tr>\n",
       "</thead>\n",
       "<tbody>\n",
       "\t<tr><th scope=row>Cazenovia College</th><td>Yes</td><td>3847</td><td>3433</td><td>527</td><td>9</td><td>35</td><td>1010</td><td>12</td><td>9384</td><td>4840</td><td>600</td><td>500</td><td>22</td><td>47</td><td>14.3</td><td>20</td><td>7697</td><td>118</td></tr>\n",
       "</tbody>\n",
       "</table>\n"
      ],
      "text/latex": [
       "A data.frame: 1 × 18\n",
       "\\begin{tabular}{r|llllllllllllllllll}\n",
       "  & Private & Apps & Accept & Enroll & Top10perc & Top25perc & F.Undergrad & P.Undergrad & Outstate & Room.Board & Books & Personal & PhD & Terminal & S.F.Ratio & perc.alumni & Expend & Grad.Rate\\\\\n",
       "  & <fct> & <dbl> & <dbl> & <dbl> & <dbl> & <dbl> & <dbl> & <dbl> & <dbl> & <dbl> & <dbl> & <dbl> & <dbl> & <dbl> & <dbl> & <dbl> & <dbl> & <dbl>\\\\\n",
       "\\hline\n",
       "\tCazenovia College & Yes & 3847 & 3433 & 527 & 9 & 35 & 1010 & 12 & 9384 & 4840 & 600 & 500 & 22 & 47 & 14.3 & 20 & 7697 & 118\\\\\n",
       "\\end{tabular}\n"
      ],
      "text/markdown": [
       "\n",
       "A data.frame: 1 × 18\n",
       "\n",
       "| <!--/--> | Private &lt;fct&gt; | Apps &lt;dbl&gt; | Accept &lt;dbl&gt; | Enroll &lt;dbl&gt; | Top10perc &lt;dbl&gt; | Top25perc &lt;dbl&gt; | F.Undergrad &lt;dbl&gt; | P.Undergrad &lt;dbl&gt; | Outstate &lt;dbl&gt; | Room.Board &lt;dbl&gt; | Books &lt;dbl&gt; | Personal &lt;dbl&gt; | PhD &lt;dbl&gt; | Terminal &lt;dbl&gt; | S.F.Ratio &lt;dbl&gt; | perc.alumni &lt;dbl&gt; | Expend &lt;dbl&gt; | Grad.Rate &lt;dbl&gt; |\n",
       "|---|---|---|---|---|---|---|---|---|---|---|---|---|---|---|---|---|---|---|\n",
       "| Cazenovia College | Yes | 3847 | 3433 | 527 | 9 | 35 | 1010 | 12 | 9384 | 4840 | 600 | 500 | 22 | 47 | 14.3 | 20 | 7697 | 118 |\n",
       "\n"
      ],
      "text/plain": [
       "                  Private Apps Accept Enroll Top10perc Top25perc F.Undergrad\n",
       "Cazenovia College Yes     3847 3433   527    9         35        1010       \n",
       "                  P.Undergrad Outstate Room.Board Books Personal PhD Terminal\n",
       "Cazenovia College 12          9384     4840       600   500      22  47      \n",
       "                  S.F.Ratio perc.alumni Expend Grad.Rate\n",
       "Cazenovia College 14.3      20          7697   118      "
      ]
     },
     "metadata": {},
     "output_type": "display_data"
    }
   ],
   "source": [
    "subset(df, Grad.Rate > 100)"
   ]
  },
  {
   "cell_type": "code",
   "execution_count": 10,
   "metadata": {},
   "outputs": [
    {
     "data": {
      "text/html": [
       "<table>\n",
       "<caption>A data.frame: 0 × 18</caption>\n",
       "<thead>\n",
       "\t<tr><th scope=col>Private</th><th scope=col>Apps</th><th scope=col>Accept</th><th scope=col>Enroll</th><th scope=col>Top10perc</th><th scope=col>Top25perc</th><th scope=col>F.Undergrad</th><th scope=col>P.Undergrad</th><th scope=col>Outstate</th><th scope=col>Room.Board</th><th scope=col>Books</th><th scope=col>Personal</th><th scope=col>PhD</th><th scope=col>Terminal</th><th scope=col>S.F.Ratio</th><th scope=col>perc.alumni</th><th scope=col>Expend</th><th scope=col>Grad.Rate</th></tr>\n",
       "\t<tr><th scope=col>&lt;fct&gt;</th><th scope=col>&lt;dbl&gt;</th><th scope=col>&lt;dbl&gt;</th><th scope=col>&lt;dbl&gt;</th><th scope=col>&lt;dbl&gt;</th><th scope=col>&lt;dbl&gt;</th><th scope=col>&lt;dbl&gt;</th><th scope=col>&lt;dbl&gt;</th><th scope=col>&lt;dbl&gt;</th><th scope=col>&lt;dbl&gt;</th><th scope=col>&lt;dbl&gt;</th><th scope=col>&lt;dbl&gt;</th><th scope=col>&lt;dbl&gt;</th><th scope=col>&lt;dbl&gt;</th><th scope=col>&lt;dbl&gt;</th><th scope=col>&lt;dbl&gt;</th><th scope=col>&lt;dbl&gt;</th><th scope=col>&lt;dbl&gt;</th></tr>\n",
       "</thead>\n",
       "<tbody>\n",
       "</tbody>\n",
       "</table>\n"
      ],
      "text/latex": [
       "A data.frame: 0 × 18\n",
       "\\begin{tabular}{llllllllllllllllll}\n",
       " Private & Apps & Accept & Enroll & Top10perc & Top25perc & F.Undergrad & P.Undergrad & Outstate & Room.Board & Books & Personal & PhD & Terminal & S.F.Ratio & perc.alumni & Expend & Grad.Rate\\\\\n",
       " <fct> & <dbl> & <dbl> & <dbl> & <dbl> & <dbl> & <dbl> & <dbl> & <dbl> & <dbl> & <dbl> & <dbl> & <dbl> & <dbl> & <dbl> & <dbl> & <dbl> & <dbl>\\\\\n",
       "\\hline\n",
       "\\end{tabular}\n"
      ],
      "text/markdown": [
       "\n",
       "A data.frame: 0 × 18\n",
       "\n",
       "| Private &lt;fct&gt; | Apps &lt;dbl&gt; | Accept &lt;dbl&gt; | Enroll &lt;dbl&gt; | Top10perc &lt;dbl&gt; | Top25perc &lt;dbl&gt; | F.Undergrad &lt;dbl&gt; | P.Undergrad &lt;dbl&gt; | Outstate &lt;dbl&gt; | Room.Board &lt;dbl&gt; | Books &lt;dbl&gt; | Personal &lt;dbl&gt; | PhD &lt;dbl&gt; | Terminal &lt;dbl&gt; | S.F.Ratio &lt;dbl&gt; | perc.alumni &lt;dbl&gt; | Expend &lt;dbl&gt; | Grad.Rate &lt;dbl&gt; |\n",
       "|---|---|---|---|---|---|---|---|---|---|---|---|---|---|---|---|---|---|\n",
       "\n"
      ],
      "text/plain": [
       "     Private Apps Accept Enroll Top10perc Top25perc F.Undergrad P.Undergrad\n",
       "     Outstate Room.Board Books Personal PhD Terminal S.F.Ratio perc.alumni\n",
       "     Expend Grad.Rate"
      ]
     },
     "metadata": {},
     "output_type": "display_data"
    }
   ],
   "source": [
    "df['Cazenovia College','Grad.Rate'] <- 100\n",
    "subset(df, Grad.Rate > 100)"
   ]
  },
  {
   "cell_type": "markdown",
   "metadata": {},
   "source": [
    "### Splitting the data"
   ]
  },
  {
   "cell_type": "code",
   "execution_count": 11,
   "metadata": {},
   "outputs": [],
   "source": [
    "library(caTools)"
   ]
  },
  {
   "cell_type": "code",
   "execution_count": 12,
   "metadata": {},
   "outputs": [],
   "source": [
    "set.seed(101)\n",
    "\n",
    "sample <- sample.split(df$Private, SplitRatio = 0.7)\n",
    "train <- subset(df, sample == T)\n",
    "test <- subset(df, sample == F)"
   ]
  },
  {
   "cell_type": "markdown",
   "metadata": {},
   "source": [
    "### Building the model"
   ]
  },
  {
   "cell_type": "markdown",
   "metadata": {},
   "source": [
    "#### Decision Tree Model"
   ]
  },
  {
   "cell_type": "code",
   "execution_count": 13,
   "metadata": {},
   "outputs": [],
   "source": [
    "library(rpart)"
   ]
  },
  {
   "cell_type": "code",
   "execution_count": 14,
   "metadata": {},
   "outputs": [
    {
     "name": "stdout",
     "output_type": "stream",
     "text": [
      "Call:\n",
      "rpart(formula = Private ~ ., data = train, method = \"class\")\n",
      "  n= 544 \n",
      "\n",
      "          CP nsplit rel error    xerror       xstd\n",
      "1 0.48648649      0 1.0000000 1.0000000 0.07013217\n",
      "2 0.21621622      1 0.5135135 0.5945946 0.05803134\n",
      "3 0.02702703      2 0.2972973 0.3581081 0.04673234\n",
      "4 0.02027027      3 0.2702703 0.3918919 0.04863747\n",
      "5 0.01000000      8 0.1554054 0.3918919 0.04863747\n",
      "\n",
      "Variable importance\n",
      "F.Undergrad      Enroll      Accept        Apps    Outstate P.Undergrad \n",
      "         17          15          13          11          10           8 \n",
      "  S.F.Ratio  Room.Board      Expend   Grad.Rate   Top10perc   Top25perc \n",
      "          7           5           4           4           3           1 \n",
      "\n",
      "Node number 1: 544 observations,    complexity param=0.4864865\n",
      "  predicted class=Yes  expected loss=0.2720588  P(node) =1\n",
      "    class counts:   148   396\n",
      "   probabilities: 0.272 0.728 \n",
      "  left son=2 (164 obs) right son=3 (380 obs)\n",
      "  Primary splits:\n",
      "      F.Undergrad < 2992.5  to the right, improve=94.01231, (0 missing)\n",
      "      Outstate    < 7997    to the left,  improve=85.65668, (0 missing)\n",
      "      Enroll      < 723     to the right, improve=70.83833, (0 missing)\n",
      "      S.F.Ratio   < 14.85   to the right, improve=62.61949, (0 missing)\n",
      "      P.Undergrad < 863.5   to the right, improve=61.88063, (0 missing)\n",
      "  Surrogate splits:\n",
      "      Enroll      < 733     to the right, agree=0.963, adj=0.878, (0 split)\n",
      "      Accept      < 2039.5  to the right, agree=0.930, adj=0.768, (0 split)\n",
      "      Apps        < 3038    to the right, agree=0.903, adj=0.677, (0 split)\n",
      "      P.Undergrad < 1309.5  to the right, agree=0.824, adj=0.415, (0 split)\n",
      "      S.F.Ratio   < 16.55   to the right, agree=0.761, adj=0.207, (0 split)\n",
      "\n",
      "Node number 2: 164 observations,    complexity param=0.2162162\n",
      "  predicted class=No   expected loss=0.2804878  P(node) =0.3014706\n",
      "    class counts:   118    46\n",
      "   probabilities: 0.720 0.280 \n",
      "  left son=4 (112 obs) right son=5 (52 obs)\n",
      "  Primary splits:\n",
      "      Outstate   < 10218.5 to the left,  improve=42.32699, (0 missing)\n",
      "      Room.Board < 5569    to the left,  improve=35.87266, (0 missing)\n",
      "      Expend     < 13927.5 to the left,  improve=25.51731, (0 missing)\n",
      "      S.F.Ratio  < 15.05   to the right, improve=22.78210, (0 missing)\n",
      "      Grad.Rate  < 65.5    to the left,  improve=19.31366, (0 missing)\n",
      "  Surrogate splits:\n",
      "      Room.Board < 4889    to the left,  agree=0.884, adj=0.635, (0 split)\n",
      "      Expend     < 13904   to the left,  agree=0.835, adj=0.481, (0 split)\n",
      "      Grad.Rate  < 69.5    to the left,  agree=0.829, adj=0.462, (0 split)\n",
      "      S.F.Ratio  < 14.25   to the right, agree=0.817, adj=0.423, (0 split)\n",
      "      Top10perc  < 39.5    to the left,  agree=0.793, adj=0.346, (0 split)\n",
      "\n",
      "Node number 3: 380 observations,    complexity param=0.02027027\n",
      "  predicted class=Yes  expected loss=0.07894737  P(node) =0.6985294\n",
      "    class counts:    30   350\n",
      "   probabilities: 0.079 0.921 \n",
      "  left son=6 (78 obs) right son=7 (302 obs)\n",
      "  Primary splits:\n",
      "      Outstate   < 7935    to the left,  improve=16.833880, (0 missing)\n",
      "      Room.Board < 2790    to the left,  improve= 9.368713, (0 missing)\n",
      "      Top10perc  < 6.5     to the left,  improve= 7.015380, (0 missing)\n",
      "      Expend     < 7013.5  to the left,  improve= 6.460093, (0 missing)\n",
      "      Grad.Rate  < 51.5    to the left,  improve= 5.929825, (0 missing)\n",
      "  Surrogate splits:\n",
      "      Room.Board  < 3050    to the left,  agree=0.850, adj=0.269, (0 split)\n",
      "      Expend      < 5581    to the left,  agree=0.837, adj=0.205, (0 split)\n",
      "      Grad.Rate   < 46.5    to the left,  agree=0.829, adj=0.167, (0 split)\n",
      "      S.F.Ratio   < 17.65   to the right, agree=0.826, adj=0.154, (0 split)\n",
      "      perc.alumni < 10.5    to the left,  agree=0.826, adj=0.154, (0 split)\n",
      "\n",
      "Node number 4: 112 observations\n",
      "  predicted class=No   expected loss=0.03571429  P(node) =0.2058824\n",
      "    class counts:   108     4\n",
      "   probabilities: 0.964 0.036 \n",
      "\n",
      "Node number 5: 52 observations,    complexity param=0.02702703\n",
      "  predicted class=Yes  expected loss=0.1923077  P(node) =0.09558824\n",
      "    class counts:    10    42\n",
      "   probabilities: 0.192 0.808 \n",
      "  left son=10 (12 obs) right son=11 (40 obs)\n",
      "  Primary splits:\n",
      "      Accept      < 5934    to the right, improve=7.020513, (0 missing)\n",
      "      Enroll      < 1706    to the right, improve=7.007900, (0 missing)\n",
      "      F.Undergrad < 7184.5  to the right, improve=6.334402, (0 missing)\n",
      "      S.F.Ratio   < 15.7    to the right, improve=4.898032, (0 missing)\n",
      "      Outstate    < 12398   to the left,  improve=4.316346, (0 missing)\n",
      "  Surrogate splits:\n",
      "      Enroll      < 1731    to the right, agree=0.962, adj=0.833, (0 split)\n",
      "      F.Undergrad < 9943    to the right, agree=0.962, adj=0.833, (0 split)\n",
      "      Apps        < 14155.5 to the right, agree=0.885, adj=0.500, (0 split)\n",
      "      P.Undergrad < 1597    to the right, agree=0.885, adj=0.500, (0 split)\n",
      "      S.F.Ratio   < 15.7    to the right, agree=0.827, adj=0.250, (0 split)\n",
      "\n",
      "Node number 6: 78 observations,    complexity param=0.02027027\n",
      "  predicted class=Yes  expected loss=0.3717949  P(node) =0.1433824\n",
      "    class counts:    29    49\n",
      "   probabilities: 0.372 0.628 \n",
      "  left son=12 (54 obs) right son=13 (24 obs)\n",
      "  Primary splits:\n",
      "      F.Undergrad < 947     to the right, improve=5.769231, (0 missing)\n",
      "      P.Undergrad < 186.5   to the right, improve=5.551049, (0 missing)\n",
      "      Room.Board  < 4525    to the right, improve=5.440728, (0 missing)\n",
      "      Top10perc   < 7       to the left,  improve=4.928205, (0 missing)\n",
      "      PhD         < 70.5    to the right, improve=4.628205, (0 missing)\n",
      "  Surrogate splits:\n",
      "      Enroll      < 220     to the right, agree=0.872, adj=0.583, (0 split)\n",
      "      Accept      < 384.5   to the right, agree=0.769, adj=0.250, (0 split)\n",
      "      Apps        < 378     to the right, agree=0.756, adj=0.208, (0 split)\n",
      "      PhD         < 46.5    to the right, agree=0.756, adj=0.208, (0 split)\n",
      "      P.Undergrad < 80      to the right, agree=0.744, adj=0.167, (0 split)\n",
      "\n",
      "Node number 7: 302 observations\n",
      "  predicted class=Yes  expected loss=0.003311258  P(node) =0.5551471\n",
      "    class counts:     1   301\n",
      "   probabilities: 0.003 0.997 \n",
      "\n",
      "Node number 10: 12 observations\n",
      "  predicted class=No   expected loss=0.3333333  P(node) =0.02205882\n",
      "    class counts:     8     4\n",
      "   probabilities: 0.667 0.333 \n",
      "\n",
      "Node number 11: 40 observations\n",
      "  predicted class=Yes  expected loss=0.05  P(node) =0.07352941\n",
      "    class counts:     2    38\n",
      "   probabilities: 0.050 0.950 \n",
      "\n",
      "Node number 12: 54 observations,    complexity param=0.02027027\n",
      "  predicted class=No   expected loss=0.5  P(node) =0.09926471\n",
      "    class counts:    27    27\n",
      "   probabilities: 0.500 0.500 \n",
      "  left son=24 (9 obs) right son=25 (45 obs)\n",
      "  Primary splits:\n",
      "      Top10perc   < 9.5     to the left,  improve=5.400000, (0 missing)\n",
      "      P.Undergrad < 187.5   to the right, improve=4.912782, (0 missing)\n",
      "      Top25perc   < 33.5    to the left,  improve=4.821429, (0 missing)\n",
      "      Terminal    < 86      to the right, improve=4.695652, (0 missing)\n",
      "      Grad.Rate   < 59.5    to the left,  improve=4.166667, (0 missing)\n",
      "  Surrogate splits:\n",
      "      Top25perc   < 23      to the left,  agree=0.944, adj=0.667, (0 split)\n",
      "      Room.Board  < 4265    to the right, agree=0.889, adj=0.333, (0 split)\n",
      "      P.Undergrad < 1426.5  to the right, agree=0.870, adj=0.222, (0 split)\n",
      "      Terminal    < 90      to the right, agree=0.852, adj=0.111, (0 split)\n",
      "\n",
      "Node number 13: 24 observations\n",
      "  predicted class=Yes  expected loss=0.08333333  P(node) =0.04411765\n",
      "    class counts:     2    22\n",
      "   probabilities: 0.083 0.917 \n",
      "\n",
      "Node number 24: 9 observations\n",
      "  predicted class=No   expected loss=0  P(node) =0.01654412\n",
      "    class counts:     9     0\n",
      "   probabilities: 1.000 0.000 \n",
      "\n",
      "Node number 25: 45 observations,    complexity param=0.02027027\n",
      "  predicted class=Yes  expected loss=0.4  P(node) =0.08272059\n",
      "    class counts:    18    27\n",
      "   probabilities: 0.400 0.600 \n",
      "  left son=50 (28 obs) right son=51 (17 obs)\n",
      "  Primary splits:\n",
      "      P.Undergrad < 187.5   to the right, improve=4.356303, (0 missing)\n",
      "      Grad.Rate   < 63.5    to the left,  improve=3.281818, (0 missing)\n",
      "      Outstate    < 4884    to the left,  improve=3.211111, (0 missing)\n",
      "      Terminal    < 70.5    to the right, improve=2.880000, (0 missing)\n",
      "      PhD         < 70.5    to the right, improve=2.513793, (0 missing)\n",
      "  Surrogate splits:\n",
      "      F.Undergrad < 1312.5  to the right, agree=0.733, adj=0.294, (0 split)\n",
      "      Grad.Rate   < 61.5    to the left,  agree=0.733, adj=0.294, (0 split)\n",
      "      Expend      < 7068.5  to the left,  agree=0.711, adj=0.235, (0 split)\n",
      "      Apps        < 1927    to the left,  agree=0.689, adj=0.176, (0 split)\n",
      "      Accept      < 998     to the left,  agree=0.689, adj=0.176, (0 split)\n",
      "\n",
      "Node number 50: 28 observations,    complexity param=0.02027027\n",
      "  predicted class=No   expected loss=0.4285714  P(node) =0.05147059\n",
      "    class counts:    16    12\n",
      "   probabilities: 0.571 0.429 \n",
      "  left son=100 (20 obs) right son=101 (8 obs)\n",
      "  Primary splits:\n",
      "      Enroll    < 469.5   to the left,  improve=2.314286, (0 missing)\n",
      "      Outstate  < 4738    to the left,  improve=1.523810, (0 missing)\n",
      "      Accept    < 956     to the left,  improve=1.523810, (0 missing)\n",
      "      Top25perc < 65      to the right, improve=1.523810, (0 missing)\n",
      "      Grad.Rate < 59.5    to the left,  improve=1.523810, (0 missing)\n",
      "  Surrogate splits:\n",
      "      Accept      < 847.5   to the left,  agree=0.857, adj=0.500, (0 split)\n",
      "      Apps        < 995.5   to the left,  agree=0.821, adj=0.375, (0 split)\n",
      "      P.Undergrad < 533     to the left,  agree=0.786, adj=0.250, (0 split)\n",
      "      Outstate    < 7425.5  to the left,  agree=0.786, adj=0.250, (0 split)\n",
      "      Books       < 425     to the right, agree=0.786, adj=0.250, (0 split)\n",
      "\n",
      "Node number 51: 17 observations\n",
      "  predicted class=Yes  expected loss=0.1176471  P(node) =0.03125\n",
      "    class counts:     2    15\n",
      "   probabilities: 0.118 0.882 \n",
      "\n",
      "Node number 100: 20 observations\n",
      "  predicted class=No   expected loss=0.3  P(node) =0.03676471\n",
      "    class counts:    14     6\n",
      "   probabilities: 0.700 0.300 \n",
      "\n",
      "Node number 101: 8 observations\n",
      "  predicted class=Yes  expected loss=0.25  P(node) =0.01470588\n",
      "    class counts:     2     6\n",
      "   probabilities: 0.250 0.750 \n",
      "\n"
     ]
    }
   ],
   "source": [
    "tree <- rpart(Private ~ ., method='class', data = train)\n",
    "summary(tree)"
   ]
  },
  {
   "cell_type": "code",
   "execution_count": 15,
   "metadata": {},
   "outputs": [
    {
     "data": {
      "text/html": [
       "<table>\n",
       "<caption>A matrix: 6 × 2 of type dbl</caption>\n",
       "<thead>\n",
       "\t<tr><th></th><th scope=col>No</th><th scope=col>Yes</th></tr>\n",
       "</thead>\n",
       "<tbody>\n",
       "\t<tr><th scope=row>Adrian College</th><td>0.003311258</td><td>0.9966887</td></tr>\n",
       "\t<tr><th scope=row>Alfred University</th><td>0.003311258</td><td>0.9966887</td></tr>\n",
       "\t<tr><th scope=row>Allegheny College</th><td>0.003311258</td><td>0.9966887</td></tr>\n",
       "\t<tr><th scope=row>Allentown Coll. of St. Francis de Sales</th><td>0.003311258</td><td>0.9966887</td></tr>\n",
       "\t<tr><th scope=row>Alma College</th><td>0.003311258</td><td>0.9966887</td></tr>\n",
       "\t<tr><th scope=row>Amherst College</th><td>0.003311258</td><td>0.9966887</td></tr>\n",
       "</tbody>\n",
       "</table>\n"
      ],
      "text/latex": [
       "A matrix: 6 × 2 of type dbl\n",
       "\\begin{tabular}{r|ll}\n",
       "  & No & Yes\\\\\n",
       "\\hline\n",
       "\tAdrian College & 0.003311258 & 0.9966887\\\\\n",
       "\tAlfred University & 0.003311258 & 0.9966887\\\\\n",
       "\tAllegheny College & 0.003311258 & 0.9966887\\\\\n",
       "\tAllentown Coll. of St. Francis de Sales & 0.003311258 & 0.9966887\\\\\n",
       "\tAlma College & 0.003311258 & 0.9966887\\\\\n",
       "\tAmherst College & 0.003311258 & 0.9966887\\\\\n",
       "\\end{tabular}\n"
      ],
      "text/markdown": [
       "\n",
       "A matrix: 6 × 2 of type dbl\n",
       "\n",
       "| <!--/--> | No | Yes |\n",
       "|---|---|---|\n",
       "| Adrian College | 0.003311258 | 0.9966887 |\n",
       "| Alfred University | 0.003311258 | 0.9966887 |\n",
       "| Allegheny College | 0.003311258 | 0.9966887 |\n",
       "| Allentown Coll. of St. Francis de Sales | 0.003311258 | 0.9966887 |\n",
       "| Alma College | 0.003311258 | 0.9966887 |\n",
       "| Amherst College | 0.003311258 | 0.9966887 |\n",
       "\n"
      ],
      "text/plain": [
       "                                        No          Yes      \n",
       "Adrian College                          0.003311258 0.9966887\n",
       "Alfred University                       0.003311258 0.9966887\n",
       "Allegheny College                       0.003311258 0.9966887\n",
       "Allentown Coll. of St. Francis de Sales 0.003311258 0.9966887\n",
       "Alma College                            0.003311258 0.9966887\n",
       "Amherst College                         0.003311258 0.9966887"
      ]
     },
     "metadata": {},
     "output_type": "display_data"
    }
   ],
   "source": [
    "tree.pred <- predict(tree, test)\n",
    "head(tree.pred)"
   ]
  },
  {
   "cell_type": "code",
   "execution_count": 16,
   "metadata": {},
   "outputs": [
    {
     "data": {
      "text/html": [
       "<table>\n",
       "<caption>A data.frame: 6 × 3</caption>\n",
       "<thead>\n",
       "\t<tr><th></th><th scope=col>No</th><th scope=col>Yes</th><th scope=col>Private</th></tr>\n",
       "\t<tr><th></th><th scope=col>&lt;dbl&gt;</th><th scope=col>&lt;dbl&gt;</th><th scope=col>&lt;chr&gt;</th></tr>\n",
       "</thead>\n",
       "<tbody>\n",
       "\t<tr><th scope=row>Adrian College</th><td>0.003311258</td><td>0.9966887</td><td>Yes</td></tr>\n",
       "\t<tr><th scope=row>Alfred University</th><td>0.003311258</td><td>0.9966887</td><td>Yes</td></tr>\n",
       "\t<tr><th scope=row>Allegheny College</th><td>0.003311258</td><td>0.9966887</td><td>Yes</td></tr>\n",
       "\t<tr><th scope=row>Allentown Coll. of St. Francis de Sales</th><td>0.003311258</td><td>0.9966887</td><td>Yes</td></tr>\n",
       "\t<tr><th scope=row>Alma College</th><td>0.003311258</td><td>0.9966887</td><td>Yes</td></tr>\n",
       "\t<tr><th scope=row>Amherst College</th><td>0.003311258</td><td>0.9966887</td><td>Yes</td></tr>\n",
       "</tbody>\n",
       "</table>\n"
      ],
      "text/latex": [
       "A data.frame: 6 × 3\n",
       "\\begin{tabular}{r|lll}\n",
       "  & No & Yes & Private\\\\\n",
       "  & <dbl> & <dbl> & <chr>\\\\\n",
       "\\hline\n",
       "\tAdrian College & 0.003311258 & 0.9966887 & Yes\\\\\n",
       "\tAlfred University & 0.003311258 & 0.9966887 & Yes\\\\\n",
       "\tAllegheny College & 0.003311258 & 0.9966887 & Yes\\\\\n",
       "\tAllentown Coll. of St. Francis de Sales & 0.003311258 & 0.9966887 & Yes\\\\\n",
       "\tAlma College & 0.003311258 & 0.9966887 & Yes\\\\\n",
       "\tAmherst College & 0.003311258 & 0.9966887 & Yes\\\\\n",
       "\\end{tabular}\n"
      ],
      "text/markdown": [
       "\n",
       "A data.frame: 6 × 3\n",
       "\n",
       "| <!--/--> | No &lt;dbl&gt; | Yes &lt;dbl&gt; | Private &lt;chr&gt; |\n",
       "|---|---|---|---|\n",
       "| Adrian College | 0.003311258 | 0.9966887 | Yes |\n",
       "| Alfred University | 0.003311258 | 0.9966887 | Yes |\n",
       "| Allegheny College | 0.003311258 | 0.9966887 | Yes |\n",
       "| Allentown Coll. of St. Francis de Sales | 0.003311258 | 0.9966887 | Yes |\n",
       "| Alma College | 0.003311258 | 0.9966887 | Yes |\n",
       "| Amherst College | 0.003311258 | 0.9966887 | Yes |\n",
       "\n"
      ],
      "text/plain": [
       "                                        No          Yes       Private\n",
       "Adrian College                          0.003311258 0.9966887 Yes    \n",
       "Alfred University                       0.003311258 0.9966887 Yes    \n",
       "Allegheny College                       0.003311258 0.9966887 Yes    \n",
       "Allentown Coll. of St. Francis de Sales 0.003311258 0.9966887 Yes    \n",
       "Alma College                            0.003311258 0.9966887 Yes    \n",
       "Amherst College                         0.003311258 0.9966887 Yes    "
      ]
     },
     "metadata": {},
     "output_type": "display_data"
    }
   ],
   "source": [
    "tree.pred <- as.data.frame(tree.pred)\n",
    "\n",
    "joiner <- function(x){\n",
    "    if(x >= 0.5){\n",
    "        return('Yes')\n",
    "    }else{\n",
    "        return('No')\n",
    "    }\n",
    "}\n",
    "\n",
    "tree.pred$Private <- sapply(tree.pred$Yes, joiner)\n",
    "\n",
    "head(tree.pred)"
   ]
  },
  {
   "cell_type": "markdown",
   "metadata": {},
   "source": [
    "##### Confusion Matrix"
   ]
  },
  {
   "cell_type": "code",
   "execution_count": 17,
   "metadata": {},
   "outputs": [
    {
     "data": {
      "text/plain": [
       "     \n",
       "       No Yes\n",
       "  No   57   9\n",
       "  Yes   7 160"
      ]
     },
     "metadata": {},
     "output_type": "display_data"
    }
   ],
   "source": [
    "table(tree.pred$Private, test$Private)"
   ]
  },
  {
   "cell_type": "code",
   "execution_count": 18,
   "metadata": {},
   "outputs": [
    {
     "data": {
      "image/png": "[encoded data removed]",
      "text/plain": [
       "plot without title"
      ]
     },
     "metadata": {
      "image/png": {
       "height": 420,
       "width": 420
      }
     },
     "output_type": "display_data"
    }
   ],
   "source": [
    "library(rpart.plot)\n",
    "prp(tree)"
   ]
  },
  {
   "cell_type": "markdown",
   "metadata": {},
   "source": [
    "### Random Forest Model"
   ]
  },
  {
   "cell_type": "code",
   "execution_count": 19,
   "metadata": {},
   "outputs": [
    {
     "name": "stderr",
     "output_type": "stream",
     "text": [
      "randomForest 4.6-14\n",
      "\n",
      "Type rfNews() to see new features/changes/bug fixes.\n",
      "\n",
      "\n",
      "Attaching package: 'randomForest'\n",
      "\n",
      "\n",
      "The following object is masked from 'package:ggplot2':\n",
      "\n",
      "    margin\n",
      "\n",
      "\n"
     ]
    }
   ],
   "source": [
    "library(randomForest)"
   ]
  },
  {
   "cell_type": "code",
   "execution_count": 21,
   "metadata": {},
   "outputs": [],
   "source": [
    "rf.model <- randomForest(Private ~ ., data = train, importance=T)"
   ]
  },
  {
   "cell_type": "markdown",
   "metadata": {},
   "source": [
    "###### On training data"
   ]
  },
  {
   "cell_type": "code",
   "execution_count": 23,
   "metadata": {},
   "outputs": [
    {
     "data": {
      "text/html": [
       "<table>\n",
       "<caption>A matrix: 2 × 3 of type dbl</caption>\n",
       "<thead>\n",
       "\t<tr><th></th><th scope=col>No</th><th scope=col>Yes</th><th scope=col>class.error</th></tr>\n",
       "</thead>\n",
       "<tbody>\n",
       "\t<tr><th scope=row>No</th><td>126</td><td> 22</td><td>0.14864865</td></tr>\n",
       "\t<tr><th scope=row>Yes</th><td> 11</td><td>385</td><td>0.02777778</td></tr>\n",
       "</tbody>\n",
       "</table>\n"
      ],
      "text/latex": [
       "A matrix: 2 × 3 of type dbl\n",
       "\\begin{tabular}{r|lll}\n",
       "  & No & Yes & class.error\\\\\n",
       "\\hline\n",
       "\tNo & 126 &  22 & 0.14864865\\\\\n",
       "\tYes &  11 & 385 & 0.02777778\\\\\n",
       "\\end{tabular}\n"
      ],
      "text/markdown": [
       "\n",
       "A matrix: 2 × 3 of type dbl\n",
       "\n",
       "| <!--/--> | No | Yes | class.error |\n",
       "|---|---|---|---|\n",
       "| No | 126 |  22 | 0.14864865 |\n",
       "| Yes |  11 | 385 | 0.02777778 |\n",
       "\n"
      ],
      "text/plain": [
       "    No  Yes class.error\n",
       "No  126  22 0.14864865 \n",
       "Yes  11 385 0.02777778 "
      ]
     },
     "metadata": {},
     "output_type": "display_data"
    }
   ],
   "source": [
    "rf.model$confusion"
   ]
  },
  {
   "cell_type": "code",
   "execution_count": 24,
   "metadata": {},
   "outputs": [
    {
     "data": {
      "text/html": [
       "<table>\n",
       "<caption>A matrix: 17 × 4 of type dbl</caption>\n",
       "<thead>\n",
       "\t<tr><th></th><th scope=col>No</th><th scope=col>Yes</th><th scope=col>MeanDecreaseAccuracy</th><th scope=col>MeanDecreaseGini</th></tr>\n",
       "</thead>\n",
       "<tbody>\n",
       "\t<tr><th scope=row>Apps</th><td>0.027023368</td><td> 0.0144591815</td><td>1.788576e-02</td><td> 9.911467</td></tr>\n",
       "\t<tr><th scope=row>Accept</th><td>0.022457400</td><td> 0.0184208127</td><td>1.950414e-02</td><td>12.311540</td></tr>\n",
       "\t<tr><th scope=row>Enroll</th><td>0.036086234</td><td> 0.0282111731</td><td>3.032941e-02</td><td>21.469318</td></tr>\n",
       "\t<tr><th scope=row>Top10perc</th><td>0.009092340</td><td> 0.0037083162</td><td>5.255904e-03</td><td> 5.398735</td></tr>\n",
       "\t<tr><th scope=row>Top25perc</th><td>0.006915374</td><td> 0.0044016998</td><td>5.072015e-03</td><td> 4.338793</td></tr>\n",
       "\t<tr><th scope=row>F.Undergrad</th><td>0.146434757</td><td> 0.0707910208</td><td>9.143137e-02</td><td>40.064080</td></tr>\n",
       "\t<tr><th scope=row>P.Undergrad</th><td>0.049114954</td><td> 0.0052862586</td><td>1.711715e-02</td><td>15.760030</td></tr>\n",
       "\t<tr><th scope=row>Outstate</th><td>0.155568597</td><td> 0.0628578847</td><td>8.813290e-02</td><td>43.450385</td></tr>\n",
       "\t<tr><th scope=row>Room.Board</th><td>0.015919932</td><td> 0.0128922392</td><td>1.372498e-02</td><td>10.947612</td></tr>\n",
       "\t<tr><th scope=row>Books</th><td>0.001674122</td><td>-0.0006206474</td><td>1.910262e-06</td><td> 2.021444</td></tr>\n",
       "\t<tr><th scope=row>Personal</th><td>0.003203570</td><td> 0.0016867559</td><td>2.110188e-03</td><td> 3.544822</td></tr>\n",
       "\t<tr><th scope=row>PhD</th><td>0.009168772</td><td> 0.0057955330</td><td>6.670819e-03</td><td> 4.786645</td></tr>\n",
       "\t<tr><th scope=row>Terminal</th><td>0.004134361</td><td> 0.0052364360</td><td>4.907209e-03</td><td> 3.775442</td></tr>\n",
       "\t<tr><th scope=row>S.F.Ratio</th><td>0.028423385</td><td> 0.0090192301</td><td>1.423401e-02</td><td>14.721519</td></tr>\n",
       "\t<tr><th scope=row>perc.alumni</th><td>0.020729260</td><td> 0.0034771765</td><td>8.241877e-03</td><td> 5.404273</td></tr>\n",
       "\t<tr><th scope=row>Expend</th><td>0.025002902</td><td> 0.0124756918</td><td>1.577046e-02</td><td> 9.953103</td></tr>\n",
       "\t<tr><th scope=row>Grad.Rate</th><td>0.017687293</td><td> 0.0050028490</td><td>8.472553e-03</td><td> 7.068756</td></tr>\n",
       "</tbody>\n",
       "</table>\n"
      ],
      "text/latex": [
       "A matrix: 17 × 4 of type dbl\n",
       "\\begin{tabular}{r|llll}\n",
       "  & No & Yes & MeanDecreaseAccuracy & MeanDecreaseGini\\\\\n",
       "\\hline\n",
       "\tApps & 0.027023368 &  0.0144591815 & 1.788576e-02 &  9.911467\\\\\n",
       "\tAccept & 0.022457400 &  0.0184208127 & 1.950414e-02 & 12.311540\\\\\n",
       "\tEnroll & 0.036086234 &  0.0282111731 & 3.032941e-02 & 21.469318\\\\\n",
       "\tTop10perc & 0.009092340 &  0.0037083162 & 5.255904e-03 &  5.398735\\\\\n",
       "\tTop25perc & 0.006915374 &  0.0044016998 & 5.072015e-03 &  4.338793\\\\\n",
       "\tF.Undergrad & 0.146434757 &  0.0707910208 & 9.143137e-02 & 40.064080\\\\\n",
       "\tP.Undergrad & 0.049114954 &  0.0052862586 & 1.711715e-02 & 15.760030\\\\\n",
       "\tOutstate & 0.155568597 &  0.0628578847 & 8.813290e-02 & 43.450385\\\\\n",
       "\tRoom.Board & 0.015919932 &  0.0128922392 & 1.372498e-02 & 10.947612\\\\\n",
       "\tBooks & 0.001674122 & -0.0006206474 & 1.910262e-06 &  2.021444\\\\\n",
       "\tPersonal & 0.003203570 &  0.0016867559 & 2.110188e-03 &  3.544822\\\\\n",
       "\tPhD & 0.009168772 &  0.0057955330 & 6.670819e-03 &  4.786645\\\\\n",
       "\tTerminal & 0.004134361 &  0.0052364360 & 4.907209e-03 &  3.775442\\\\\n",
       "\tS.F.Ratio & 0.028423385 &  0.0090192301 & 1.423401e-02 & 14.721519\\\\\n",
       "\tperc.alumni & 0.020729260 &  0.0034771765 & 8.241877e-03 &  5.404273\\\\\n",
       "\tExpend & 0.025002902 &  0.0124756918 & 1.577046e-02 &  9.953103\\\\\n",
       "\tGrad.Rate & 0.017687293 &  0.0050028490 & 8.472553e-03 &  7.068756\\\\\n",
       "\\end{tabular}\n"
      ],
      "text/markdown": [
       "\n",
       "A matrix: 17 × 4 of type dbl\n",
       "\n",
       "| <!--/--> | No | Yes | MeanDecreaseAccuracy | MeanDecreaseGini |\n",
       "|---|---|---|---|---|\n",
       "| Apps | 0.027023368 |  0.0144591815 | 1.788576e-02 |  9.911467 |\n",
       "| Accept | 0.022457400 |  0.0184208127 | 1.950414e-02 | 12.311540 |\n",
       "| Enroll | 0.036086234 |  0.0282111731 | 3.032941e-02 | 21.469318 |\n",
       "| Top10perc | 0.009092340 |  0.0037083162 | 5.255904e-03 |  5.398735 |\n",
       "| Top25perc | 0.006915374 |  0.0044016998 | 5.072015e-03 |  4.338793 |\n",
       "| F.Undergrad | 0.146434757 |  0.0707910208 | 9.143137e-02 | 40.064080 |\n",
       "| P.Undergrad | 0.049114954 |  0.0052862586 | 1.711715e-02 | 15.760030 |\n",
       "| Outstate | 0.155568597 |  0.0628578847 | 8.813290e-02 | 43.450385 |\n",
       "| Room.Board | 0.015919932 |  0.0128922392 | 1.372498e-02 | 10.947612 |\n",
       "| Books | 0.001674122 | -0.0006206474 | 1.910262e-06 |  2.021444 |\n",
       "| Personal | 0.003203570 |  0.0016867559 | 2.110188e-03 |  3.544822 |\n",
       "| PhD | 0.009168772 |  0.0057955330 | 6.670819e-03 |  4.786645 |\n",
       "| Terminal | 0.004134361 |  0.0052364360 | 4.907209e-03 |  3.775442 |\n",
       "| S.F.Ratio | 0.028423385 |  0.0090192301 | 1.423401e-02 | 14.721519 |\n",
       "| perc.alumni | 0.020729260 |  0.0034771765 | 8.241877e-03 |  5.404273 |\n",
       "| Expend | 0.025002902 |  0.0124756918 | 1.577046e-02 |  9.953103 |\n",
       "| Grad.Rate | 0.017687293 |  0.0050028490 | 8.472553e-03 |  7.068756 |\n",
       "\n"
      ],
      "text/plain": [
       "            No          Yes           MeanDecreaseAccuracy MeanDecreaseGini\n",
       "Apps        0.027023368  0.0144591815 1.788576e-02          9.911467       \n",
       "Accept      0.022457400  0.0184208127 1.950414e-02         12.311540       \n",
       "Enroll      0.036086234  0.0282111731 3.032941e-02         21.469318       \n",
       "Top10perc   0.009092340  0.0037083162 5.255904e-03          5.398735       \n",
       "Top25perc   0.006915374  0.0044016998 5.072015e-03          4.338793       \n",
       "F.Undergrad 0.146434757  0.0707910208 9.143137e-02         40.064080       \n",
       "P.Undergrad 0.049114954  0.0052862586 1.711715e-02         15.760030       \n",
       "Outstate    0.155568597  0.0628578847 8.813290e-02         43.450385       \n",
       "Room.Board  0.015919932  0.0128922392 1.372498e-02         10.947612       \n",
       "Books       0.001674122 -0.0006206474 1.910262e-06          2.021444       \n",
       "Personal    0.003203570  0.0016867559 2.110188e-03          3.544822       \n",
       "PhD         0.009168772  0.0057955330 6.670819e-03          4.786645       \n",
       "Terminal    0.004134361  0.0052364360 4.907209e-03          3.775442       \n",
       "S.F.Ratio   0.028423385  0.0090192301 1.423401e-02         14.721519       \n",
       "perc.alumni 0.020729260  0.0034771765 8.241877e-03          5.404273       \n",
       "Expend      0.025002902  0.0124756918 1.577046e-02          9.953103       \n",
       "Grad.Rate   0.017687293  0.0050028490 8.472553e-03          7.068756       "
      ]
     },
     "metadata": {},
     "output_type": "display_data"
    }
   ],
   "source": [
    "rf.model$importance"
   ]
  },
  {
   "cell_type": "markdown",
   "metadata": {},
   "source": [
    "##### Confusion Matrix"
   ]
  },
  {
   "cell_type": "code",
   "execution_count": 25,
   "metadata": {},
   "outputs": [
    {
     "data": {
      "text/plain": [
       "       \n",
       "rf.pred  No Yes\n",
       "    No   57   6\n",
       "    Yes   7 163"
      ]
     },
     "metadata": {},
     "output_type": "display_data"
    }
   ],
   "source": [
    "rf.pred <- predict(rf.model,test)\n",
    "table(rf.pred, test$Private)"
   ]
  },
  {
   "cell_type": "markdown",
   "metadata": {},
   "source": [
    "## END!!!"
   ]
  },
  {
   "cell_type": "code",
   "execution_count": null,
   "metadata": {},
   "outputs": [],
   "source": []
  }
 ],
 "metadata": {
  "kernelspec": {
   "display_name": "R",
   "language": "R",
   "name": "ir"
  },
  "language_info": {
   "codemirror_mode": "r",
   "file_extension": ".r",
   "mimetype": "text/x-r-source",
   "name": "R",
   "pygments_lexer": "r",
   "version": "4.0.2"
  }
 },
 "nbformat": 4,
 "nbformat_minor": 4
}
